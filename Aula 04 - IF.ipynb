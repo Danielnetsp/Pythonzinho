{
 "cells": [
  {
   "cell_type": "markdown",
   "metadata": {},
   "source": [
    "# Aula 04 - Condição IF / ELIF / ELSE\n",
    "## teste 01\n",
    "### teste 02\n",
    "#### teste 03\n",
    "\n",
    "> oi identação\n",
    "\n",
    "_intalico_\n",
    "__negrito__\n",
    "\n",
    "<font color=blue> texto em azul </font>\n",
    "<font color=red> texto em vermelho </font>\n",
    "\n",
    "\n",
    "\n"
   ]
  },
  {
   "cell_type": "code",
   "execution_count": 5,
   "metadata": {},
   "outputs": [
    {
     "name": "stdout",
     "output_type": "stream",
     "text": [
      "else\n"
     ]
    }
   ],
   "source": [
    "numero = 2\n",
    "if numero > 2:\n",
    "    print('if')\n",
    "else:\n",
    "    print('else')\n",
    "        "
   ]
  },
  {
   "cell_type": "code",
   "execution_count": 21,
   "metadata": {},
   "outputs": [
    {
     "name": "stdout",
     "output_type": "stream",
     "text": [
      "é um numero real\n"
     ]
    }
   ],
   "source": [
    "variavel = 1    # exemplo de inteiro\n",
    "variavel = 'a'  # exemplo de string\n",
    "variavel = True # exemplo de booleano\n",
    "variavel = 2.1  # exemplo de numero real\n",
    "\n",
    "if type(variavel) == str:\n",
    "    print('é uma string')\n",
    "elif type(variavel) == int:\n",
    "    print('é um inteiro')\n",
    "elif type(variavel) == float:\n",
    "    print('é um numero real')\n",
    "elif type(variavel) == bool:\n",
    "    print('é um booleano')\n",
    "else:\n",
    "    print('não sei o que é')\n"
   ]
  },
  {
   "cell_type": "code",
   "execution_count": 13,
   "metadata": {},
   "outputs": [
    {
     "data": {
      "text/plain": [
       "False"
      ]
     },
     "execution_count": 13,
     "metadata": {},
     "output_type": "execute_result"
    }
   ],
   "source": []
  },
  {
   "cell_type": "code",
   "execution_count": null,
   "metadata": {},
   "outputs": [],
   "source": []
  }
 ],
 "metadata": {
  "kernelspec": {
   "display_name": "Python 3",
   "language": "python",
   "name": "python3"
  },
  "language_info": {
   "codemirror_mode": {
    "name": "ipython",
    "version": 3
   },
   "file_extension": ".py",
   "mimetype": "text/x-python",
   "name": "python",
   "nbconvert_exporter": "python",
   "pygments_lexer": "ipython3",
   "version": "3.7.4"
  }
 },
 "nbformat": 4,
 "nbformat_minor": 2
}
